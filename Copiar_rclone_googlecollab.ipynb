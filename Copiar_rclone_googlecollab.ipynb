{
  "cells": [
    {
      "cell_type": "markdown",
      "metadata": {
        "id": "view-in-github",
        "colab_type": "text"
      },
      "source": [
        "<a href=\"https://colab.research.google.com/github/pecha2k2/Mumble-Channel-Viewer/blob/master/Copiar_rclone_googlecollab.ipynb\" target=\"_parent\"><img src=\"https://colab.research.google.com/assets/colab-badge.svg\" alt=\"Open In Colab\"/></a>"
      ]
    },
    {
      "cell_type": "code",
      "execution_count": null,
      "metadata": {
        "colab": {
          "base_uri": "https://localhost:8080/"
        },
        "id": "Y_ZvRm-BSKgm",
        "outputId": "81ff88df-6c60-41bb-8864-b4f3d929a43c"
      },
      "outputs": [
        {
          "output_type": "stream",
          "name": "stdout",
          "text": [
            "Directories are set up.\n"
          ]
        }
      ],
      "source": [
        "import os\n",
        "\n",
        "base_dir = '~/sync_task'\n",
        "cache_dir = os.path.join(base_dir, 'cache')\n",
        "tmp_dir = os.path.join(base_dir, 'tmp')\n",
        "\n",
        "# Ensure directories exist\n",
        "for dir_path in [base_dir, cache_dir, tmp_dir]:\n",
        "    os.makedirs(os.path.expanduser(dir_path), exist_ok=True)\n",
        "\n",
        "print(\"Directories are set up.\")"
      ]
    },
    {
      "cell_type": "code",
      "execution_count": null,
      "metadata": {
        "colab": {
          "base_uri": "https://localhost:8080/"
        },
        "id": "aRnJHt8ASbC_",
        "outputId": "c34676e7-1f4d-45ed-cc54-fdb64d0448b2"
      },
      "outputs": [
        {
          "output_type": "stream",
          "name": "stdout",
          "text": [
            "  % Total    % Received % Xferd  Average Speed   Time    Time     Time  Current\n",
            "                                 Dload  Upload   Total   Spent    Left  Speed\n",
            "100  4707  100  4707    0     0   4059      0  0:00:01  0:00:01 --:--:--  4061\n",
            "\n",
            "The latest version of rclone rclone v1.63.1 is already installed.\n",
            "\n"
          ]
        }
      ],
      "source": [
        "!curl https://rclone.org/install.sh | sudo bash"
      ]
    },
    {
      "cell_type": "code",
      "execution_count": null,
      "metadata": {
        "colab": {
          "base_uri": "https://localhost:8080/",
          "height": 108
        },
        "id": "3NCQmYm-Skvg",
        "outputId": "06fec46b-e450-4a74-c5ef-350b7bb3084a"
      },
      "outputs": [
        {
          "output_type": "display_data",
          "data": {
            "text/plain": [
              "<IPython.core.display.HTML object>"
            ],
            "text/html": [
              "\n",
              "     <input type=\"file\" id=\"files-2d98ac51-d6f1-4c4f-b66f-96981dd6d120\" name=\"files[]\" multiple disabled\n",
              "        style=\"border:none\" />\n",
              "     <output id=\"result-2d98ac51-d6f1-4c4f-b66f-96981dd6d120\">\n",
              "      Upload widget is only available when the cell has been executed in the\n",
              "      current browser session. Please rerun this cell to enable.\n",
              "      </output>\n",
              "      <script>// Copyright 2017 Google LLC\n",
              "//\n",
              "// Licensed under the Apache License, Version 2.0 (the \"License\");\n",
              "// you may not use this file except in compliance with the License.\n",
              "// You may obtain a copy of the License at\n",
              "//\n",
              "//      http://www.apache.org/licenses/LICENSE-2.0\n",
              "//\n",
              "// Unless required by applicable law or agreed to in writing, software\n",
              "// distributed under the License is distributed on an \"AS IS\" BASIS,\n",
              "// WITHOUT WARRANTIES OR CONDITIONS OF ANY KIND, either express or implied.\n",
              "// See the License for the specific language governing permissions and\n",
              "// limitations under the License.\n",
              "\n",
              "/**\n",
              " * @fileoverview Helpers for google.colab Python module.\n",
              " */\n",
              "(function(scope) {\n",
              "function span(text, styleAttributes = {}) {\n",
              "  const element = document.createElement('span');\n",
              "  element.textContent = text;\n",
              "  for (const key of Object.keys(styleAttributes)) {\n",
              "    element.style[key] = styleAttributes[key];\n",
              "  }\n",
              "  return element;\n",
              "}\n",
              "\n",
              "// Max number of bytes which will be uploaded at a time.\n",
              "const MAX_PAYLOAD_SIZE = 100 * 1024;\n",
              "\n",
              "function _uploadFiles(inputId, outputId) {\n",
              "  const steps = uploadFilesStep(inputId, outputId);\n",
              "  const outputElement = document.getElementById(outputId);\n",
              "  // Cache steps on the outputElement to make it available for the next call\n",
              "  // to uploadFilesContinue from Python.\n",
              "  outputElement.steps = steps;\n",
              "\n",
              "  return _uploadFilesContinue(outputId);\n",
              "}\n",
              "\n",
              "// This is roughly an async generator (not supported in the browser yet),\n",
              "// where there are multiple asynchronous steps and the Python side is going\n",
              "// to poll for completion of each step.\n",
              "// This uses a Promise to block the python side on completion of each step,\n",
              "// then passes the result of the previous step as the input to the next step.\n",
              "function _uploadFilesContinue(outputId) {\n",
              "  const outputElement = document.getElementById(outputId);\n",
              "  const steps = outputElement.steps;\n",
              "\n",
              "  const next = steps.next(outputElement.lastPromiseValue);\n",
              "  return Promise.resolve(next.value.promise).then((value) => {\n",
              "    // Cache the last promise value to make it available to the next\n",
              "    // step of the generator.\n",
              "    outputElement.lastPromiseValue = value;\n",
              "    return next.value.response;\n",
              "  });\n",
              "}\n",
              "\n",
              "/**\n",
              " * Generator function which is called between each async step of the upload\n",
              " * process.\n",
              " * @param {string} inputId Element ID of the input file picker element.\n",
              " * @param {string} outputId Element ID of the output display.\n",
              " * @return {!Iterable<!Object>} Iterable of next steps.\n",
              " */\n",
              "function* uploadFilesStep(inputId, outputId) {\n",
              "  const inputElement = document.getElementById(inputId);\n",
              "  inputElement.disabled = false;\n",
              "\n",
              "  const outputElement = document.getElementById(outputId);\n",
              "  outputElement.innerHTML = '';\n",
              "\n",
              "  const pickedPromise = new Promise((resolve) => {\n",
              "    inputElement.addEventListener('change', (e) => {\n",
              "      resolve(e.target.files);\n",
              "    });\n",
              "  });\n",
              "\n",
              "  const cancel = document.createElement('button');\n",
              "  inputElement.parentElement.appendChild(cancel);\n",
              "  cancel.textContent = 'Cancel upload';\n",
              "  const cancelPromise = new Promise((resolve) => {\n",
              "    cancel.onclick = () => {\n",
              "      resolve(null);\n",
              "    };\n",
              "  });\n",
              "\n",
              "  // Wait for the user to pick the files.\n",
              "  const files = yield {\n",
              "    promise: Promise.race([pickedPromise, cancelPromise]),\n",
              "    response: {\n",
              "      action: 'starting',\n",
              "    }\n",
              "  };\n",
              "\n",
              "  cancel.remove();\n",
              "\n",
              "  // Disable the input element since further picks are not allowed.\n",
              "  inputElement.disabled = true;\n",
              "\n",
              "  if (!files) {\n",
              "    return {\n",
              "      response: {\n",
              "        action: 'complete',\n",
              "      }\n",
              "    };\n",
              "  }\n",
              "\n",
              "  for (const file of files) {\n",
              "    const li = document.createElement('li');\n",
              "    li.append(span(file.name, {fontWeight: 'bold'}));\n",
              "    li.append(span(\n",
              "        `(${file.type || 'n/a'}) - ${file.size} bytes, ` +\n",
              "        `last modified: ${\n",
              "            file.lastModifiedDate ? file.lastModifiedDate.toLocaleDateString() :\n",
              "                                    'n/a'} - `));\n",
              "    const percent = span('0% done');\n",
              "    li.appendChild(percent);\n",
              "\n",
              "    outputElement.appendChild(li);\n",
              "\n",
              "    const fileDataPromise = new Promise((resolve) => {\n",
              "      const reader = new FileReader();\n",
              "      reader.onload = (e) => {\n",
              "        resolve(e.target.result);\n",
              "      };\n",
              "      reader.readAsArrayBuffer(file);\n",
              "    });\n",
              "    // Wait for the data to be ready.\n",
              "    let fileData = yield {\n",
              "      promise: fileDataPromise,\n",
              "      response: {\n",
              "        action: 'continue',\n",
              "      }\n",
              "    };\n",
              "\n",
              "    // Use a chunked sending to avoid message size limits. See b/62115660.\n",
              "    let position = 0;\n",
              "    do {\n",
              "      const length = Math.min(fileData.byteLength - position, MAX_PAYLOAD_SIZE);\n",
              "      const chunk = new Uint8Array(fileData, position, length);\n",
              "      position += length;\n",
              "\n",
              "      const base64 = btoa(String.fromCharCode.apply(null, chunk));\n",
              "      yield {\n",
              "        response: {\n",
              "          action: 'append',\n",
              "          file: file.name,\n",
              "          data: base64,\n",
              "        },\n",
              "      };\n",
              "\n",
              "      let percentDone = fileData.byteLength === 0 ?\n",
              "          100 :\n",
              "          Math.round((position / fileData.byteLength) * 100);\n",
              "      percent.textContent = `${percentDone}% done`;\n",
              "\n",
              "    } while (position < fileData.byteLength);\n",
              "  }\n",
              "\n",
              "  // All done.\n",
              "  yield {\n",
              "    response: {\n",
              "      action: 'complete',\n",
              "    }\n",
              "  };\n",
              "}\n",
              "\n",
              "scope.google = scope.google || {};\n",
              "scope.google.colab = scope.google.colab || {};\n",
              "scope.google.colab._files = {\n",
              "  _uploadFiles,\n",
              "  _uploadFilesContinue,\n",
              "};\n",
              "})(self);\n",
              "</script> "
            ]
          },
          "metadata": {}
        },
        {
          "output_type": "stream",
          "name": "stdout",
          "text": [
            "Saving rclone.conf to rclone.conf\n",
            "User uploaded rclone config file.\n",
            "rclone configuration moved to ~/sync_task/\n"
          ]
        }
      ],
      "source": [
        "from google.colab import files\n",
        "\n",
        "# Upload the rclone config file\n",
        "uploaded = files.upload()\n",
        "\n",
        "# Check if the correct file was uploaded and move it to the sync_task directory\n",
        "for fn in uploaded.keys():\n",
        "    if \"rclone.conf\" in fn:\n",
        "        print('User uploaded rclone config file.')\n",
        "        !mv rclone.conf ~/sync_task/rclone.conf\n",
        "        print(\"rclone configuration moved to ~/sync_task/\")\n",
        "    else:\n",
        "        print(f'Unexpected file \"{fn}\". Please upload rclone.conf.')"
      ]
    },
    {
      "cell_type": "code",
      "execution_count": null,
      "metadata": {
        "colab": {
          "base_uri": "https://localhost:8080/"
        },
        "id": "XTKwswkXS9tS",
        "outputId": "298e33ff-9798-4501-f6fd-d512c4ec27fb"
      },
      "outputs": [
        {
          "output_type": "stream",
          "name": "stdout",
          "text": [
            "          -1 2023-07-17 07:49:38        -1 ###ESTRENOS CINE\n",
            "          -1 2023-07-17 07:50:12        -1 ##SERIES EN EMISION\n",
            "          -1 2023-07-17 07:50:20        -1 ##SERIES EN EMISION 4K\n",
            "          -1 2023-07-17 07:50:03        -1 #NOVEDADES MES ACTUAL\n",
            "          -1 2023-07-31 21:55:51        -1 JULIO 2023\n",
            "          -1 2000-01-01 00:00:00        -1 4K-MicroUHD\n",
            "          -1 2000-01-01 00:00:00        -1 4K-UHDremux\n",
            "          -1 2000-01-01 00:00:00        -1 Conciertos\n",
            "          -1 2000-01-01 00:00:00        -1 Documental\n"
          ]
        }
      ],
      "source": [
        "!rclone lsd teamdiario: --config ~/sync_task/rclone.conf && rclone lsd DropBox:/Peliculas --config ~/sync_task/rclone.conf"
      ]
    },
    {
      "cell_type": "code",
      "execution_count": null,
      "metadata": {
        "id": "1lNCL-UxTM3-"
      },
      "outputs": [],
      "source": [
        "import subprocess\n",
        "\n",
        "# Define rclone command with logging\n",
        "command = \"rclone copy 'teamdiario:/#NOVEDADES MES ACTUAL' DropBox:/mensual/ --config ~/sync_task/rclone.conf -v --log-file ~/sync_task/rclone.log --transfers 15 --checkers 64 --fast-list --cache-dir ~/sync_task/cache --temp-dir ~/sync_task/tmp\"\n",
        "rclone_process = subprocess.Popen(command, shell=True, stdout=subprocess.PIPE, stderr=subprocess.PIPE)"
      ]
    },
    {
      "cell_type": "code",
      "execution_count": null,
      "metadata": {
        "colab": {
          "base_uri": "https://localhost:8080/"
        },
        "id": "FdhNPwFyT0s1",
        "outputId": "4dbf3901-839f-4e9a-8293-d466d7e234b2"
      },
      "outputs": [
        {
          "output_type": "stream",
          "name": "stdout",
          "text": [
            "Checks:               578 / 578, 100%\n",
            "Transferred:            3 / 4, 75%\n",
            "Elapsed time:    2h42m1.7s\n",
            "Transferring:\n",
            " * 02. Películas 4K (NO N…4K UHDRemux 2160p].mkv: 98% /148.746Gi, 12.659Mi/s, 2m55s\n",
            "\n",
            "2023/08/13 12:39:48 INFO  : \n",
            "Transferred:   \t  173.068 GiB / 174.508 GiB, 99%, 12.371 MiB/s, ETA 1m59s\n",
            "Checks:               578 / 578, 100%\n",
            "Transferred:            3 / 4, 75%\n",
            "Elapsed time:    2h43m1.7s\n",
            "Transferring:\n",
            " * 02. Películas 4K (NO N…4K UHDRemux 2160p].mkv: 99% /148.746Gi, 12.371Mi/s, 1m59s\n",
            "\n",
            "2023/08/13 12:40:48 INFO  : \n",
            "Transferred:   \t  173.780 GiB / 174.508 GiB, 100%, 12.602 MiB/s, ETA 59s\n",
            "Checks:               578 / 578, 100%\n",
            "Transferred:            3 / 4, 75%\n",
            "Elapsed time:    2h44m1.7s\n",
            "Transferring:\n",
            " * 02. Películas 4K (NO N…4K UHDRemux 2160p].mkv: 99% /148.746Gi, 12.701Mi/s, 58s\n",
            "\n",
            "2023/08/13 12:41:48 INFO  : \n",
            "Transferred:   \t  174.508 GiB / 174.508 GiB, 100%, 11.532 MiB/s, ETA 0s\n",
            "Checks:               578 / 578, 100%\n",
            "Transferred:            3 / 4, 75%\n",
            "Elapsed time:    2h45m1.7s\n",
            "Transferring:\n",
            " * 02. Películas 4K (NO N…4K UHDRemux 2160p].mkv:100% /148.746Gi, 11.316Mi/s, 0s\n",
            "\n",
            "rclone process has finished.\n"
          ]
        }
      ],
      "source": [
        "import time\n",
        "from IPython.display import clear_output\n",
        "\n",
        "# Define monitoring period and duration\n",
        "log_check_interval = 10  # seconds\n",
        "keep_alive_message_interval = 60  # seconds\n",
        "\n",
        "last_message_time = 0\n",
        "\n",
        "while True:\n",
        "    # Check if the rclone process is still running\n",
        "    if rclone_process.poll() is not None:\n",
        "        print(\"rclone process has finished.\")\n",
        "        break\n",
        "\n",
        "    clear_output(wait=True)  # Clear the previous output\n",
        "\n",
        "    # Print last 30 lines of the log file\n",
        "    log_content = !tail -n 30 ~/sync_task/rclone.log\n",
        "    for line in log_content:\n",
        "        print(line)\n",
        "\n",
        "    # Print a keep-alive message\n",
        "    current_time = time.time()\n",
        "    if current_time - last_message_time > keep_alive_message_interval:\n",
        "        print(\"Still copying...\")\n",
        "        last_message_time = current_time\n",
        "\n",
        "    # Sleep before checking the log again\n",
        "    time.sleep(log_check_interval)"
      ]
    },
    {
      "cell_type": "code",
      "execution_count": null,
      "metadata": {
        "colab": {
          "base_uri": "https://localhost:8080/"
        },
        "id": "w9PpD5ClUWl7",
        "outputId": "3cd05f88-45ad-4af6-e3ba-db49ecb6a1e7"
      },
      "outputs": [
        {
          "output_type": "stream",
          "name": "stdout",
          "text": [
            "rclone process is not running.\n"
          ]
        }
      ],
      "source": [
        "# Check if the process is still running\n",
        "if rclone_process.poll() is None:\n",
        "    rclone_process.terminate()\n",
        "    print(\"rclone process terminated.\")\n",
        "else:\n",
        "    print(\"rclone process is not running.\")"
      ]
    }
  ],
  "metadata": {
    "colab": {
      "provenance": [],
      "include_colab_link": true
    },
    "kernelspec": {
      "display_name": "Python 3",
      "name": "python3"
    },
    "language_info": {
      "name": "python"
    }
  },
  "nbformat": 4,
  "nbformat_minor": 0
}